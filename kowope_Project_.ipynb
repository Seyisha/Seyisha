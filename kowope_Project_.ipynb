{
  "nbformat": 4,
  "nbformat_minor": 0,
  "metadata": {
    "colab": {
      "name": "kowope Project .ipynb",
      "provenance": [],
      "collapsed_sections": [],
      "authorship_tag": "ABX9TyMl5+3qT+NQQaDGZRVkEOlo",
      "include_colab_link": true
    },
    "kernelspec": {
      "name": "python3",
      "display_name": "Python 3"
    },
    "language_info": {
      "name": "python"
    },
    "accelerator": "GPU"
  },
  "cells": [
    {
      "cell_type": "markdown",
      "metadata": {
        "id": "view-in-github",
        "colab_type": "text"
      },
      "source": [
        "<a href=\"https://colab.research.google.com/github/Seyisha/Seyisha/blob/main/kowope_Project_.ipynb\" target=\"_parent\"><img src=\"https://colab.research.google.com/assets/colab-badge.svg\" alt=\"Open In Colab\"/></a>"
      ]
    },
    {
      "cell_type": "code",
      "execution_count": null,
      "metadata": {
        "colab": {
          "base_uri": "https://localhost:8080/"
        },
        "id": "mDoH16hxeovj",
        "outputId": "e7eb06e8-1f22-4804-ff87-a7b035936597"
      },
      "outputs": [
        {
          "output_type": "stream",
          "name": "stdout",
          "text": [
            "Collecting catboost\n",
            "  Downloading catboost-1.0.4-cp37-none-manylinux1_x86_64.whl (76.1 MB)\n",
            "\u001b[K     |████████████████████████████████| 76.1 MB 1.2 MB/s \n",
            "\u001b[?25hRequirement already satisfied: six in /usr/local/lib/python3.7/dist-packages (from catboost) (1.15.0)\n",
            "Requirement already satisfied: plotly in /usr/local/lib/python3.7/dist-packages (from catboost) (5.5.0)\n",
            "Requirement already satisfied: matplotlib in /usr/local/lib/python3.7/dist-packages (from catboost) (3.2.2)\n",
            "Requirement already satisfied: pandas>=0.24.0 in /usr/local/lib/python3.7/dist-packages (from catboost) (1.3.5)\n",
            "Requirement already satisfied: numpy>=1.16.0 in /usr/local/lib/python3.7/dist-packages (from catboost) (1.19.5)\n",
            "Requirement already satisfied: scipy in /usr/local/lib/python3.7/dist-packages (from catboost) (1.4.1)\n",
            "Requirement already satisfied: graphviz in /usr/local/lib/python3.7/dist-packages (from catboost) (0.10.1)\n",
            "Requirement already satisfied: pytz>=2017.3 in /usr/local/lib/python3.7/dist-packages (from pandas>=0.24.0->catboost) (2018.9)\n",
            "Requirement already satisfied: python-dateutil>=2.7.3 in /usr/local/lib/python3.7/dist-packages (from pandas>=0.24.0->catboost) (2.8.2)\n",
            "Requirement already satisfied: cycler>=0.10 in /usr/local/lib/python3.7/dist-packages (from matplotlib->catboost) (0.11.0)\n",
            "Requirement already satisfied: pyparsing!=2.0.4,!=2.1.2,!=2.1.6,>=2.0.1 in /usr/local/lib/python3.7/dist-packages (from matplotlib->catboost) (3.0.7)\n",
            "Requirement already satisfied: kiwisolver>=1.0.1 in /usr/local/lib/python3.7/dist-packages (from matplotlib->catboost) (1.3.2)\n",
            "Requirement already satisfied: tenacity>=6.2.0 in /usr/local/lib/python3.7/dist-packages (from plotly->catboost) (8.0.1)\n"
          ]
        }
      ],
      "source": [
        "!pip install catboost"
      ]
    },
    {
      "cell_type": "code",
      "source": [
        "import pandas as pd\n",
        "import numpy as np\n",
        "import matplotlib.pyplot as plt\n",
        "from sklearn.metrics import roc_auc_score, log_loss\n",
        "import seaborn as sns \n",
        "from sklearn.model_selection import StratifiedKFold\n",
        "import xgboost as xgb\n",
        "import catboost as cat_\n",
        "import seaborn as sns\n",
        "import lightgbm as lgb"
      ],
      "metadata": {
        "id": "Hv81YH__ezHb"
      },
      "execution_count": null,
      "outputs": []
    },
    {
      "cell_type": "code",
      "source": [
        "train=pd.read_csv(\"/Train_exp.csv\")"
      ],
      "metadata": {
        "id": "ZvtxNWHvhIUU"
      },
      "execution_count": null,
      "outputs": []
    },
    {
      "cell_type": "code",
      "source": [
        "test=pd.read_csv(\"/Test_exp.csv\")"
      ],
      "metadata": {
        "id": "rZVS1KgrkE53"
      },
      "execution_count": null,
      "outputs": []
    },
    {
      "cell_type": "code",
      "source": [
        "class Func():\n",
        "    def __init__(self,train,label, test, model, model_type,random_type):\n",
        "        self.train,self.label,self.test=train,label,test\n",
        "        self.model,self.model_type=model,model_type\n",
        "        self.random_type=random_type\n",
        "      \n",
        "        assert  model_type in (\"catboost\",\"xgboost\",\"lightgbm\"), \"incorrect model_type\"\n",
        "\n",
        "    def __call__(self, plot=True):\n",
        "        return self.fit(plot)\n",
        "\n",
        "    def fit(self,plot):\n",
        "        def catboost_fit(X_train,X_test,y_train,y_test):\n",
        "            self.model.fit(X_train,y_train,eval_set=[(X_test,y_test)], early_stopping_rounds =500,\n",
        "                           verbose=50,use_best_model=True)\n",
        "            x_test_predict=self.model.predict_proba(X_test)[:,1]\n",
        "            x_train_predict=self.model.predict_proba(X_train)[:,1]\n",
        "            self.val_p[test_index]=x_test_predict\n",
        "            self.test_p += self.model.predict_proba(self.test)[:,1]\n",
        "            return x_test_predict,x_train_predict\n",
        "\n",
        "\n",
        "        def xgboost_fit(X_train,X_test,y_train,y_test):\n",
        "            self.model.fit(X_train,y_train, eval_set=[(X_test,y_test)], early_stopping_rounds=30,\n",
        "                           verbose= True, eval_metric=\"auc\")\n",
        "            x_test_predict=self.model.predict_proba(X_test,ntree_limit=self.model.get_booster().best_ntree_limit)[:,1]\n",
        "            x_train_predict=self.model.predict_proba(X_train,ntree_limit = self.model.get_booster().best_ntree_limit)[:,1]\n",
        "            self.val_p[test_index]=x_test_predict\n",
        "            self.test_p += self.model.predict_proba(self.test, ntree_limit = self.model.get_booster().best_ntree_limit)[:,1]\n",
        "            return x_test_predict,x_train_predict\n",
        "\n",
        "\n",
        "        def lightgbm_fit(X_train,X_test,y_train,y_test):\n",
        "            self.model.fit(X_train,y_train, eval_set=[(X_test,y_test)],verbose=True,\n",
        "                           eval_metric =\"auc\",early_stopping_round=30 )\n",
        "            x_test_predict=self.model.predict_proba(X_test, num_iteration = self.model.best_iteration_)[:,1]\n",
        "            x_train_predict=self.model.predict_proba(X_train,num_iteration=self.model.best_iteration_)[:,1]\n",
        "            self.val_p[test_index]=x_test_predict\n",
        "            self.test_p +=self.model.predict_proba(self.test, num_iteration = self.model.best_iteration_)[:,1]\n",
        "            return x_test_predict, x_train_predict\n",
        "\n",
        "        self.val_p=np.zeros(self.train.shape[0])\n",
        "        mean_val=[]\n",
        "        mean_train=[]\n",
        "        self.test_p=np.zeros(self.test.shape[0])\n",
        "        split=5\n",
        "        kf=StratifiedKFold(n_splits=split)\n",
        "        for fold_count, (train_index, test_index) in enumerate(kf.split(self.train, self.label)):\n",
        "            X_train,X_test=self.train.iloc[train_index],self.train.iloc[test_index]\n",
        "            y_train,y_test=self.label.iloc[train_index],self.label.iloc[test_index]\n",
        "\n",
        "            \n",
        "            print(f\"================================Fold{fold_count+1}====================================\")\n",
        "            if self.model_type=='catboost': x_test_predict,x_train_predict=catboost_fit(X_train,X_test,y_train,y_test)\n",
        "            elif self.model_type=='xgboost':x_test_predict,x_train_predict=xgboost_fit(X_train,X_test,y_train,y_test)\n",
        "            elif self.model_type=='lightgbm':x_test_predict,x_train_predict=lightgbm_fit(X_train,X_test,y_train,y_test)\n",
        "\n",
        "            print('\\nValidation scores', roc_auc_score(y_test, x_test_predict), log_loss(y_test, x_test_predict))\n",
        "            print('Training scores', roc_auc_score(y_train, x_train_predict), log_loss(y_train, x_train_predict))\n",
        "            mean_val.append(roc_auc_score(y_test, x_test_predict))\n",
        "            mean_train.append(roc_auc_score(y_train, x_train_predict))\n",
        "\n",
        "        if plot:\n",
        "            feat_imp= pd.DataFrame(sorted(zip(self.model.feature_importances_,self.train.columns)), columns =['values','Features'])\n",
        "            plt.figure(figsize=(30,25))\n",
        "            sns.barplot(x='values', y='Features', data=feat_imp.sort_values(by='values', ascending =False))\n",
        "            plt.ylabel(\"Feature Importance score \")\n",
        "            plt.show()\n",
        "        print(np.mean(mean_val), np.mean(mean_train), np.std(mean_val))\n",
        "        return self.val_p, self.test_p/split, self.model\n",
        "\n",
        "\n",
        "\n",
        "\n",
        "        \n",
        "\n",
        "        \n",
        "\n",
        "\n",
        "\n"
      ],
      "metadata": {
        "id": "aFy3ZkZHk79t"
      },
      "execution_count": null,
      "outputs": []
    },
    {
      "cell_type": "code",
      "source": [
        "print(train.MRG.value_counts(dropna= False), 'train length:', len(train) , '\\n')\n",
        "print(test.MRG.value_counts(dropna= False),'test length:', len(test))"
      ],
      "metadata": {
        "id": "IYctQ2HcUkoz"
      },
      "execution_count": null,
      "outputs": []
    },
    {
      "cell_type": "code",
      "source": [
        "train.drop([\"user_id\",\"MRG\",],1, inplace =True)\n",
        "test.drop([\"user_id\",\"MRG\",],1, inplace =True)"
      ],
      "metadata": {
        "id": "P_AyWcc1WvVm"
      },
      "execution_count": null,
      "outputs": []
    },
    {
      "cell_type": "code",
      "source": [
        "ntrain=train.shape[0]\n",
        "ntest=test.shape[0]\n",
        "data=pd.concat((train,test)).reset_index(drop= True)\n"
      ],
      "metadata": {
        "id": "hKbGTPboZL3p"
      },
      "execution_count": null,
      "outputs": []
    },
    {
      "cell_type": "code",
      "source": [
        "data['REVENUE-MONTANT'] = data['REVENUE'] - data['MONTANT']\n",
        "data['REVENUE/MONTANT'] = data['REVENUE'] / data['MONTANT']"
      ],
      "metadata": {
        "id": "Skd6TMVGaoru"
      },
      "execution_count": null,
      "outputs": []
    },
    {
      "cell_type": "code",
      "source": [
        "data['TENURE']=data['TENURE'].map({'k<24':24,'I 18-21 month': 18, 'H 15-18 month': 15, 'G 12-15 month':12,\n",
        "                                             'J 21-24 month': 21, 'F 9-12': 9, 'E 6-9 month':6, 'D 3-6 month':3})"
      ],
      "metadata": {
        "id": "-cj6qNGwatcg"
      },
      "execution_count": null,
      "outputs": []
    },
    {
      "cell_type": "code",
      "source": [
        "#return Avg of the tenure/month \n",
        "data['TENURE_AVG']=data['TENURE'].map({'k<24':(24+27)/2,'I 18-21 month': (18+21)/2, 'H 15-18 month': (15+18)/2, 'G 12-15 month':(12+15)/2,\n",
        "                                             'J 21-24 month': (24+21)/2, 'F 9-12': (12+9)/2, 'E 6-9 month':(6 +9)/2, 'D 3-6 month':(3 +6)/2})"
      ],
      "metadata": {
        "id": "6yVFjDU5cDff"
      },
      "execution_count": null,
      "outputs": []
    },
    {
      "cell_type": "code",
      "source": [
        "data['TENURE/FREQUENCE_RECH'] = data['TENURE_AVG'] / data['FREQUENCE_RECH']\n",
        "data['TENURE/REGULARITY'] = data['TENURE_AVG'] / data['REGULARITY']"
      ],
      "metadata": {
        "id": "W7v-UHScdxUk"
      },
      "execution_count": null,
      "outputs": []
    },
    {
      "cell_type": "code",
      "source": [
        "MAN=data.groupby('REGION').mean()\n",
        "MAN['MONTANT'+'_reg_mean_all']=MAN['MONTANT']"
      ],
      "metadata": {
        "id": "v2JAmlZnSIbr"
      },
      "execution_count": null,
      "outputs": []
    },
    {
      "cell_type": "code",
      "source": [
        "region=data.groupby('REGION').mean()\n",
        "region. drop('CHURN', 1, inplace= True )\n",
        "cols = []\n",
        "for i in region.columns:\n",
        "    if i != 'REGION':\n",
        "        region[i+'_reg_mean_all'] = region[i]\n",
        "        region.drop(i, 1, inplace = True)\n",
        "        cols.append(i+'_reg_mean_all')\n",
        "\n",
        "data = pd.merge(data, region, on='REGION', how = 'left')\n",
        "for col in cols: data[col+'_freq'] = data[col].map(data[col].value_counts().to_dict())/len(data)\n",
        "\n"
      ],
      "metadata": {
        "id": "BVgkn0EVd3pm"
      },
      "execution_count": null,
      "outputs": []
    },
    {
      "cell_type": "code",
      "source": [
        "data['freq*montant'] = data['FREQUENCE'] * data['MONTANT']\n",
        "data['freq*rech'] = data['FREQUENCE'] * data['FREQUENCE_RECH']\n",
        "data['freq*revenue'] = data['FREQUENCE'] * data['REVENUE']\n",
        "data['freq*segment'] = data['FREQUENCE'] * data['ARPU_SEGMENT']\n",
        "\n",
        "data['freq/montant'] =  data['MONTANT']/ data['FREQUENCE']\n",
        "data['freq/rech'] = data['FREQUENCE'] / data['FREQUENCE_RECH']\n",
        "data['freq/revenue'] = data['FREQUENCE'] / data['REVENUE']\n",
        "data['freq/segment'] = data['FREQUENCE'] / data['ARPU_SEGMENT']"
      ],
      "metadata": {
        "id": "O-ICo6KEeh-u"
      },
      "execution_count": null,
      "outputs": []
    },
    {
      "cell_type": "code",
      "source": [
        "data['data/reg'] = data['DATA_VOLUME'] / data['REGULARITY']\n",
        "data['net/reg'] = data['ON_NET'] / data['REGULARITY']\n",
        "data['montant-rech/freq'] = (data['MONTANT'] - data['FREQUENCE_RECH']) / data['FREQUENCE']\n",
        "data['segment/reg'] = data['ARPU_SEGMENT'] / data['REGULARITY']"
      ],
      "metadata": {
        "id": "HSz59X_1h7ZM"
      },
      "execution_count": null,
      "outputs": []
    },
    {
      "cell_type": "code",
      "source": [
        "data['reg_log'] = np.log1p(data['REGULARITY'])\n",
        "data['rech_log'] = np.log1p(data['FREQUENCE_RECH'])\n",
        "data['data_log'] = np.log1p(data['DATA_VOLUME'])\n",
        "data['montant_log'] = np.log1p(data['MONTANT'])\n",
        "data['rev_log'] = np.log1p(data['REVENUE'])\n",
        "data['freq_log'] = np.log1p(data['FREQUENCE'])"
      ],
      "metadata": {
        "id": "Y-lT0IKwh_GD"
      },
      "execution_count": null,
      "outputs": []
    },
    {
      "cell_type": "code",
      "source": [
        "data['reglog-montlog'] = data['reg_log'] - data['montant_log']\n",
        "data['revlog/montlog'] = data['REVENUE'] / data['montant_log']\n",
        "data['tenure/rechlog'] = data['TENURE_AVG'] / data['rech_log']\n",
        "data['reglog-datalog'] = data['reg_log'] - data['data_log']"
      ],
      "metadata": {
        "id": "J19h7AbpiCMj"
      },
      "execution_count": null,
      "outputs": []
    },
    {
      "cell_type": "code",
      "source": [
        "drop = ['REGION', 'TOP_PACK']\n",
        "data.drop(drop, 1, inplace = True)"
      ],
      "metadata": {
        "id": "atl6N0LpijKj"
      },
      "execution_count": null,
      "outputs": []
    },
    {
      "cell_type": "code",
      "source": [
        "train = data[:ntrain].copy()\n",
        "#train.drop_duplicates(inplace = True, ignore_index=True)\n",
        "target = train.CHURN.copy()\n",
        "train.drop('CHURN', axis=1, inplace=True)\n",
        "\n",
        "test = data[ntrain:].copy()\n",
        "test.drop('CHURN', axis=1, inplace=True)\n",
        "test = test.reset_index(drop=True)"
      ],
      "metadata": {
        "id": "LQMeTBRRipgT"
      },
      "execution_count": null,
      "outputs": []
    },
    {
      "cell_type": "code",
      "source": [
        "catboost=cat_.CatBoostClassifier(n_estimators=10000, max_depth=6, eval_metric='AUC', reg_lambda = 370, task_type=\"GPU\", devices='0:1')\n",
        "\n",
        "func_= Func(train, target, test, catboost, 'catboost', 1000)\n",
        "val_p1, test_p1, model1 = func_()"
      ],
      "metadata": {
        "id": "vj6ShY9CjDn1"
      },
      "execution_count": null,
      "outputs": []
    },
    {
      "cell_type": "code",
      "source": [
        "xgboost = xgb.XGBClassifier(objective ='binary:logistic', \n",
        "                          eta = 0.99,\n",
        "                          max_depth = 6, \n",
        "                          n_estimators = 5000,\n",
        "                          reg_lambda = 500,\n",
        "                          sub_sample = 0.8,\n",
        "                          colsample_bytree = 0.8, tree_method='gpu_hist', gpu_id=0)\n",
        "\n",
        "func_= Func(train, target, test, xgboost, 'xgboost', 1000)\n",
        "val_p2, test_p2, model2 = func_()"
      ],
      "metadata": {
        "id": "x9Hlm65iZxDb"
      },
      "execution_count": null,
      "outputs": []
    },
    {
      "cell_type": "code",
      "source": [
        "\n",
        "lgb_model = lgb.LGBMClassifier(objective =  'binary', \n",
        "                            metric= 'auc',\n",
        "                            boosting_type= 'gbdt',\n",
        "                            lambda_l1= 0.0004912993970392775,\n",
        "                            lambda_l2= 9.424350138808432,\n",
        "                            num_leaves= 24,\n",
        "                            feature_fraction= 1.0,\n",
        "                            bagging_fraction= 0.9540416539312312,\n",
        "                            bagging_freq= 7,\n",
        "                            min_child_samples= 100, n_estimators = 300)\n",
        "\n",
        "#func_= Func(train, target, test, lgb_model, 'lgbm', 1000)\n",
        "val_p3, test_p3, model3 = func_()"
      ],
      "metadata": {
        "id": "hEP4XxN3OI2o"
      },
      "execution_count": null,
      "outputs": []
    },
    {
      "cell_type": "code",
      "source": [
        "func_= Func(train, target, test, lgb_model, 'lgbm', 1000)\n",
        "val_p3, test_p3, model3 = func_()"
      ],
      "metadata": {
        "id": "f2iUgJ5Rl5CP"
      },
      "execution_count": null,
      "outputs": []
    },
    {
      "cell_type": "code",
      "source": [
        "from sklearn.linear_model import  LinearRegression, Ridge, Lasso\n",
        "stack = np.column_stack((val_p1, val_p2, val_p3))\n",
        "stack_p = np.column_stack((test_p1, test_p2, test_p3))\n",
        "predict = LinearRegression().fit(stack, target).predict(stack_p)"
      ],
      "metadata": {
        "id": "7uqJt8JSnLLP"
      },
      "execution_count": null,
      "outputs": []
    },
    {
      "cell_type": "code",
      "source": [
        "submission=pd.read_csv(\"/content/sample_submission.csv\")\n",
        "submission['CHURN'] = predict\n",
        "\n",
        "\n",
        "profit=submission.to_csv('solution_stack.csv',index=False)"
      ],
      "metadata": {
        "id": "0WEkufW5onLI"
      },
      "execution_count": null,
      "outputs": []
    },
    {
      "cell_type": "code",
      "source": [
        "submission"
      ],
      "metadata": {
        "id": "Fk4x6fZ6p55b"
      },
      "execution_count": null,
      "outputs": []
    },
    {
      "cell_type": "code",
      "source": [
        "val_p1"
      ],
      "metadata": {
        "id": "akEB63s6qHCl"
      },
      "execution_count": null,
      "outputs": []
    },
    {
      "cell_type": "code",
      "source": [
        "val_p2"
      ],
      "metadata": {
        "id": "2JunXcUCs-dz"
      },
      "execution_count": null,
      "outputs": []
    },
    {
      "cell_type": "code",
      "source": [
        "val_p3"
      ],
      "metadata": {
        "id": "q6_UX_QEtB4b"
      },
      "execution_count": null,
      "outputs": []
    },
    {
      "cell_type": "code",
      "source": [
        "val_p3-val_p2"
      ],
      "metadata": {
        "id": "Z6fvqkwYtDks"
      },
      "execution_count": null,
      "outputs": []
    },
    {
      "cell_type": "code",
      "source": [
        ""
      ],
      "metadata": {
        "id": "jSio0F6ntUIr"
      },
      "execution_count": null,
      "outputs": []
    }
  ]
}