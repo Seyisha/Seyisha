{
  "nbformat": 4,
  "nbformat_minor": 0,
  "metadata": {
    "colab": {
      "name": "kowope Project .ipynb",
      "provenance": [],
      "collapsed_sections": [],
      "authorship_tag": "ABX9TyNXdX4utcD6a/r/Vsl67T10",
      "include_colab_link": true
    },
    "kernelspec": {
      "name": "python3",
      "display_name": "Python 3"
    },
    "language_info": {
      "name": "python"
    }
  },
  "cells": [
    {
      "cell_type": "markdown",
      "metadata": {
        "id": "view-in-github",
        "colab_type": "text"
      },
      "source": [
        "<a href=\"https://colab.research.google.com/github/Seyisha/Seyisha/blob/main/kowope_Project_.ipynb\" target=\"_parent\"><img src=\"https://colab.research.google.com/assets/colab-badge.svg\" alt=\"Open In Colab\"/></a>"
      ]
    },
    {
      "cell_type": "code",
      "execution_count": 1,
      "metadata": {
        "colab": {
          "base_uri": "https://localhost:8080/"
        },
        "id": "mDoH16hxeovj",
        "outputId": "5a89c6c4-29a0-44c7-d345-81ed0a0742a4"
      },
      "outputs": [
        {
          "output_type": "stream",
          "name": "stdout",
          "text": [
            "Collecting catboost\n",
            "  Downloading catboost-1.0.4-cp37-none-manylinux1_x86_64.whl (76.1 MB)\n",
            "\u001b[K     |████████████████████████████████| 76.1 MB 71 kB/s \n",
            "\u001b[?25hRequirement already satisfied: plotly in /usr/local/lib/python3.7/dist-packages (from catboost) (5.5.0)\n",
            "Requirement already satisfied: graphviz in /usr/local/lib/python3.7/dist-packages (from catboost) (0.10.1)\n",
            "Requirement already satisfied: pandas>=0.24.0 in /usr/local/lib/python3.7/dist-packages (from catboost) (1.3.5)\n",
            "Requirement already satisfied: scipy in /usr/local/lib/python3.7/dist-packages (from catboost) (1.4.1)\n",
            "Requirement already satisfied: numpy>=1.16.0 in /usr/local/lib/python3.7/dist-packages (from catboost) (1.19.5)\n",
            "Requirement already satisfied: six in /usr/local/lib/python3.7/dist-packages (from catboost) (1.15.0)\n",
            "Requirement already satisfied: matplotlib in /usr/local/lib/python3.7/dist-packages (from catboost) (3.2.2)\n",
            "Requirement already satisfied: pytz>=2017.3 in /usr/local/lib/python3.7/dist-packages (from pandas>=0.24.0->catboost) (2018.9)\n",
            "Requirement already satisfied: python-dateutil>=2.7.3 in /usr/local/lib/python3.7/dist-packages (from pandas>=0.24.0->catboost) (2.8.2)\n",
            "Requirement already satisfied: kiwisolver>=1.0.1 in /usr/local/lib/python3.7/dist-packages (from matplotlib->catboost) (1.3.2)\n",
            "Requirement already satisfied: cycler>=0.10 in /usr/local/lib/python3.7/dist-packages (from matplotlib->catboost) (0.11.0)\n",
            "Requirement already satisfied: pyparsing!=2.0.4,!=2.1.2,!=2.1.6,>=2.0.1 in /usr/local/lib/python3.7/dist-packages (from matplotlib->catboost) (3.0.7)\n",
            "Requirement already satisfied: tenacity>=6.2.0 in /usr/local/lib/python3.7/dist-packages (from plotly->catboost) (8.0.1)\n",
            "Installing collected packages: catboost\n",
            "Successfully installed catboost-1.0.4\n"
          ]
        }
      ],
      "source": [
        "!pip install catboost"
      ]
    },
    {
      "cell_type": "code",
      "source": [
        "import pandas as pd\n",
        "import numpy as np\n",
        "import matplotlib.pyplot as plt\n",
        "import seaborn as sns \n",
        "from sklearn.model_selection import StratifiedKFold\n",
        "import xgboost as xgb\n",
        "import catboost as cat_\n",
        "import seaborn as sns\n",
        "import lightgbm as lgb"
      ],
      "metadata": {
        "id": "Hv81YH__ezHb"
      },
      "execution_count": 16,
      "outputs": []
    },
    {
      "cell_type": "code",
      "source": [
        "train=pd.read_csv(\"/content/Train_exp.csv\")"
      ],
      "metadata": {
        "id": "ZvtxNWHvhIUU"
      },
      "execution_count": 12,
      "outputs": []
    },
    {
      "cell_type": "code",
      "source": [
        "test=pd.read_csv(\"/content/Test_exp.csv\")"
      ],
      "metadata": {
        "id": "rZVS1KgrkE53"
      },
      "execution_count": 13,
      "outputs": []
    },
    {
      "cell_type": "code",
      "source": [
        "class Func():\n",
        "    def __init__(self,train,label, test, model, model_type,random_type):\n",
        "        self.train,self.label,self.test=train,label,test\n",
        "        self.model,self.model_type=model,model_type\n",
        "        self.random_type=random_type\n",
        "      \n",
        "        assert  model_type in (\"catboost\",\"xgboost\",\"lightgbm\"), \"incorrect model_type\"\n",
        "\n",
        "    def __call__(self, plot=true):\n",
        "        return self.fit(plot)\n",
        "\n",
        "    def fit(self,plot):\n",
        "        def catboost_fit(X_train,X_test,y_train,y_test):\n",
        "            self.model.fit(X_train,y_train,eval_set=[(X_test,y_test)], early_stopping_round =500,\n",
        "                           verbose=50,use_best_model=True)\n",
        "            x_test_predict=self.model.predict.proba(X_test)[:,1]\n",
        "            x_train_predict=self.model.predict.proba(X_train)[:,1]\n",
        "            self.val_p[test_index]=x_test_predict\n",
        "            self.test_p += self.model.predict.proba(self.test)[:,1]\n",
        "            return x_test_predict,x_train_predict\n",
        "\n",
        "\n",
        "        def xgboost_fit(X_train,X_test,y_train,y_test):\n",
        "            self.model.fit(X_train,y_train, eval_set=[(X_test,y_test)], early_stopping_round=30,\n",
        "                           verbose= True, eval_metric=\"auc\")\n",
        "            x_test_predict=self.model.predict.proba(X_test,ntree_limit=self.model.get_booster().best_ntree_limit)[:,1]\n",
        "            x_train_predict=self.model.predict.proba(X_train,ntree_limit = self.model.get_booster().best_ntree_limit)[:,1]\n",
        "            self.val_p[test_index]=x_test_predict\n",
        "            self.test_p += self.model.predict.proba(self.test, num_iteration = self.model.best_iteration_)[:,1]\n",
        "            return x_test_predict,x_train_predict\n",
        "\n",
        "\n",
        "        def lightgbm_fit(X_train,X_test,y_train,y_test):\n",
        "            self.model.fit(X_train,y_train, eval_set=[(X_test,y_test)],verbose=True,\n",
        "                           eval_metric =\"auc\",early_stopping_round=30 )\n",
        "            x_test_predict=self.model.predict.proba\n",
        "\n",
        "        \n",
        "\n",
        "        \n",
        "\n",
        "\n",
        "\n"
      ],
      "metadata": {
        "id": "aFy3ZkZHk79t"
      },
      "execution_count": null,
      "outputs": []
    }
  ]
}