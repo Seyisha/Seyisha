{
  "nbformat": 4,
  "nbformat_minor": 0,
  "metadata": {
    "colab": {
      "name": "kowope Project .ipynb",
      "provenance": [],
      "collapsed_sections": [],
      "authorship_tag": "ABX9TyObu8uQJCeoYEhXdaVg7eAl",
      "include_colab_link": true
    },
    "kernelspec": {
      "name": "python3",
      "display_name": "Python 3"
    },
    "language_info": {
      "name": "python"
    }
  },
  "cells": [
    {
      "cell_type": "markdown",
      "metadata": {
        "id": "view-in-github",
        "colab_type": "text"
      },
      "source": [
        "<a href=\"https://colab.research.google.com/github/Seyisha/Seyisha/blob/main/kowope_Project_.ipynb\" target=\"_parent\"><img src=\"https://colab.research.google.com/assets/colab-badge.svg\" alt=\"Open In Colab\"/></a>"
      ]
    },
    {
      "cell_type": "code",
      "execution_count": 1,
      "metadata": {
        "colab": {
          "base_uri": "https://localhost:8080/"
        },
        "id": "mDoH16hxeovj",
        "outputId": "5a89c6c4-29a0-44c7-d345-81ed0a0742a4"
      },
      "outputs": [
        {
          "output_type": "stream",
          "name": "stdout",
          "text": [
            "Collecting catboost\n",
            "  Downloading catboost-1.0.4-cp37-none-manylinux1_x86_64.whl (76.1 MB)\n",
            "\u001b[K     |████████████████████████████████| 76.1 MB 71 kB/s \n",
            "\u001b[?25hRequirement already satisfied: plotly in /usr/local/lib/python3.7/dist-packages (from catboost) (5.5.0)\n",
            "Requirement already satisfied: graphviz in /usr/local/lib/python3.7/dist-packages (from catboost) (0.10.1)\n",
            "Requirement already satisfied: pandas>=0.24.0 in /usr/local/lib/python3.7/dist-packages (from catboost) (1.3.5)\n",
            "Requirement already satisfied: scipy in /usr/local/lib/python3.7/dist-packages (from catboost) (1.4.1)\n",
            "Requirement already satisfied: numpy>=1.16.0 in /usr/local/lib/python3.7/dist-packages (from catboost) (1.19.5)\n",
            "Requirement already satisfied: six in /usr/local/lib/python3.7/dist-packages (from catboost) (1.15.0)\n",
            "Requirement already satisfied: matplotlib in /usr/local/lib/python3.7/dist-packages (from catboost) (3.2.2)\n",
            "Requirement already satisfied: pytz>=2017.3 in /usr/local/lib/python3.7/dist-packages (from pandas>=0.24.0->catboost) (2018.9)\n",
            "Requirement already satisfied: python-dateutil>=2.7.3 in /usr/local/lib/python3.7/dist-packages (from pandas>=0.24.0->catboost) (2.8.2)\n",
            "Requirement already satisfied: kiwisolver>=1.0.1 in /usr/local/lib/python3.7/dist-packages (from matplotlib->catboost) (1.3.2)\n",
            "Requirement already satisfied: cycler>=0.10 in /usr/local/lib/python3.7/dist-packages (from matplotlib->catboost) (0.11.0)\n",
            "Requirement already satisfied: pyparsing!=2.0.4,!=2.1.2,!=2.1.6,>=2.0.1 in /usr/local/lib/python3.7/dist-packages (from matplotlib->catboost) (3.0.7)\n",
            "Requirement already satisfied: tenacity>=6.2.0 in /usr/local/lib/python3.7/dist-packages (from plotly->catboost) (8.0.1)\n",
            "Installing collected packages: catboost\n",
            "Successfully installed catboost-1.0.4\n"
          ]
        }
      ],
      "source": [
        "!pip install catboost"
      ]
    },
    {
      "cell_type": "code",
      "source": [
        "import pandas as pd\n",
        "import numpy as np\n",
        "import matplotlib.pyplot as plt\n",
        "import seaborn as sns \n",
        "from sklearn.model_selection import StratifiedKFold\n",
        "import xgboost as xgb\n",
        "import catboost as cat_\n",
        "import seaborn as sns\n",
        "import lightgbm as lgb"
      ],
      "metadata": {
        "id": "Hv81YH__ezHb"
      },
      "execution_count": 16,
      "outputs": []
    },
    {
      "cell_type": "code",
      "source": [
        "train=pd.read_csv(\"/content/Train_exp.csv\")"
      ],
      "metadata": {
        "id": "ZvtxNWHvhIUU"
      },
      "execution_count": 17,
      "outputs": []
    },
    {
      "cell_type": "code",
      "source": [
        "test=pd.read_csv(\"/content/Test_exp.csv\")"
      ],
      "metadata": {
        "id": "rZVS1KgrkE53"
      },
      "execution_count": 18,
      "outputs": []
    },
    {
      "cell_type": "code",
      "source": [
        ""
      ],
      "metadata": {
        "id": "9IVsIIRLNRvn"
      },
      "execution_count": null,
      "outputs": []
    },
    {
      "cell_type": "code",
      "source": [
        "class Func():\n",
        "    def __init__(self,train,label, test, model, model_type,random_type):\n",
        "        self.train,self.label,self.test=train,label,test\n",
        "        self.model,self.model_type=model,model_type\n",
        "        self.random_type=random_type\n",
        "      \n",
        "        assert  model_type in (\"catboost\",\"xgboost\",\"lightgbm\"), \"incorrect model_type\"\n",
        "\n",
        "    def __call__(self, plot=True):\n",
        "        return self.fit(plot)\n",
        "\n",
        "    def fit(self,plot):\n",
        "        def catboost_fit(X_train,X_test,y_train,y_test):\n",
        "            self.model.fit(X_train,y_train,eval_set=[(X_test,y_test)], early_stopping_round =500,\n",
        "                           verbose=50,use_best_model=True)\n",
        "            x_test_predict=self.model.predict.proba(X_test)[:,1]\n",
        "            x_train_predict=self.model.predict.proba(X_train)[:,1]\n",
        "            self.val_p[test_index]=x_test_predict\n",
        "            self.test_p += self.model.predict.proba(self.test)[:,1]\n",
        "            return x_test_predict,x_train_predict\n",
        "\n",
        "\n",
        "        def xgboost_fit(X_train,X_test,y_train,y_test):\n",
        "            self.model.fit(X_train,y_train, eval_set=[(X_test,y_test)], early_stopping_round=30,\n",
        "                           verbose= True, eval_metric=\"auc\")\n",
        "            x_test_predict=self.model.predict.proba(X_test,ntree_limit=self.model.get_booster().best_ntree_limit)[:,1]\n",
        "            x_train_predict=self.model.predict.proba(X_train,ntree_limit = self.model.get_booster().best_ntree_limit)[:,1]\n",
        "            self.val_p[test_index]=x_test_predict\n",
        "            self.test_p += self.model.predict.proba(self.test, num_iteration = self.model.best_iteration_)[:,1]\n",
        "            return x_test_predict,x_train_predict\n",
        "\n",
        "\n",
        "        def lightgbm_fit(X_train,X_test,y_train,y_test):\n",
        "            self.model.fit(X_train,y_train, eval_set=[(X_test,y_test)],verbose=True,\n",
        "                           eval_metric =\"auc\",early_stopping_round=30 )\n",
        "            x_test_predict=self.model.predict.proba(X_test, num_iteration = self.model.best_iteration_)[:,1]\n",
        "            x_train_predict=self.model.predict.proba(X_train,num_iteration=self.model.best_iteration_)[:,1]\n",
        "            self.val_p[test_index]=x_test_predict\n",
        "            self.test_p +=self.model.predit.proba(self.test, num_iteration = self.model.best_iteration_)[:,1]\n",
        "            return x_test_predict, x_train_predict\n",
        "\n",
        "        self.val_p=np.zeros(self.train.shape[0])\n",
        "        mean_val=[]\n",
        "        mean_train=[]\n",
        "        self.test_p=n.zeros(self.test.shape[0])\n",
        "        split=5\n",
        "        kf=StratifiedKFold(n_splits=split)\n",
        "        for fold_count, (train_index, test_index) in enumerate(kf.split(self.train, self.label)):\n",
        "            X_train,X_test=self.train.iloc[train_index],self.train.iloc[test_index]\n",
        "            y_train,y_test=self.label.iloc[train_index],self.label.iloc[test_index]\n",
        "\n",
        "            \n",
        "            print(f\"================================Fold{fold_count+1}====================================\")\n",
        "            if self.model_type=='catboost': x_test_predict,x_train_predict=catboost_fit(X_train,X_test,y_train,y_test)\n",
        "            elif self.model_type=='xgboost':x_test_predict,x_train_predict=xgboost_fit(X_train,X_test,y_train,y_test)\n",
        "            elif self.model_type=='lightgbm':x_test_predict,x_train_predict=lightgbm_fit(X_train,X_test,y_train,y_test)\n",
        "\n",
        "            print('\\nValidation scores', roc_auc_score(y_test, x_test_predict), log_loss(y_test, x_test_predict))\n",
        "            print('Training scores', roc_auc_score(y_train, x_train_predict), log_loss(y_train, x_train_predict))\n",
        "            mean_val.append(roc_auc_score(y_test, x_test_predict))\n",
        "            mean_train.append(roc_auc_score(y_train, x_train_predict))\n",
        "\n",
        "        if plot:\n",
        "            feat_imp= pd.DataFrame(sorted(zip(self.model.feature_importance_,self.tain.columns)), columns =['value','Features'])\n",
        "            plt.figure(figsize=(30,25))\n",
        "            sns.barplot(x='value', y='Features', data=feat_imp.sort_values(by='values', ascending =False))\n",
        "            plt.ylabel(\"Feature Importance score \")\n",
        "            plt.show()\n",
        "        print(np.mean(mean_val), np.mean(mean_train), np.std(mean_val))\n",
        "        return self.val_p, self.test_p/split, self.model\n",
        "\n",
        "\n",
        "\n",
        "\n",
        "        \n",
        "\n",
        "        \n",
        "\n",
        "\n",
        "\n"
      ],
      "metadata": {
        "id": "aFy3ZkZHk79t"
      },
      "execution_count": 19,
      "outputs": []
    },
    {
      "cell_type": "code",
      "source": [
        "train.columns"
      ],
      "metadata": {
        "colab": {
          "base_uri": "https://localhost:8080/"
        },
        "id": "nTTcnG5nUanY",
        "outputId": "f3086d9a-3d6c-4ef4-a979-817805cadf8e"
      },
      "execution_count": 27,
      "outputs": [
        {
          "output_type": "execute_result",
          "data": {
            "text/plain": [
              "Index(['user_id', 'REGION', 'TENURE', 'MONTANT', 'FREQUENCE_RECH', 'REVENUE',\n",
              "       'ARPU_SEGMENT', 'FREQUENCE', 'DATA_VOLUME', 'ON_NET', 'ORANGE', 'TIGO',\n",
              "       'ZONE1', 'ZONE2', 'MRG', 'REGULARITY', 'TOP_PACK', 'FREQ_TOP_PACK',\n",
              "       'CHURN'],\n",
              "      dtype='object')"
            ]
          },
          "metadata": {},
          "execution_count": 27
        }
      ]
    },
    {
      "cell_type": "code",
      "source": [
        "print(train.MRG.value_counts(dropna= False), 'train length:', len(train) , '\\n')\n",
        "print(test.MRG.value_counts(dropna= False),'test length:', len(test))"
      ],
      "metadata": {
        "colab": {
          "base_uri": "https://localhost:8080/"
        },
        "id": "IYctQ2HcUkoz",
        "outputId": "b5ad64d7-e7af-439e-c66f-b98490e87efb"
      },
      "execution_count": 28,
      "outputs": [
        {
          "output_type": "stream",
          "name": "stdout",
          "text": [
            "NO    400000\n",
            "Name: MRG, dtype: int64 train length: 400000 \n",
            "\n",
            "NO    100000\n",
            "Name: MRG, dtype: int64 test length: 100000\n"
          ]
        }
      ]
    },
    {
      "cell_type": "code",
      "source": [
        "train.drop([\"user_id\",\"MRG\",],1, inplace =True)\n",
        "test.drop([\"user_id\",\"MRG\",],1, inplace =True)"
      ],
      "metadata": {
        "colab": {
          "base_uri": "https://localhost:8080/"
        },
        "id": "P_AyWcc1WvVm",
        "outputId": "e601a2fe-a7fe-4621-ff47-31a81a17de04"
      },
      "execution_count": 29,
      "outputs": [
        {
          "output_type": "stream",
          "name": "stderr",
          "text": [
            "/usr/local/lib/python3.7/dist-packages/ipykernel_launcher.py:1: FutureWarning: In a future version of pandas all arguments of DataFrame.drop except for the argument 'labels' will be keyword-only\n",
            "  \"\"\"Entry point for launching an IPython kernel.\n",
            "/usr/local/lib/python3.7/dist-packages/ipykernel_launcher.py:2: FutureWarning: In a future version of pandas all arguments of DataFrame.drop except for the argument 'labels' will be keyword-only\n",
            "  \n"
          ]
        }
      ]
    },
    {
      "cell_type": "code",
      "source": [
        "ntrain=train.shape[0]\n",
        "ntest=test.shape[0]\n",
        "data=pd.concat((train,test)).reset_index(drop= True)\n"
      ],
      "metadata": {
        "id": "hKbGTPboZL3p"
      },
      "execution_count": 37,
      "outputs": []
    },
    {
      "cell_type": "code",
      "source": [
        "data['REVENUE-MONTANT'] = data['REVENUE'] - data['MONTANT']\n",
        "data['REVENUE/MONTANT'] = data['REVENUE'] / data['MONTANT']"
      ],
      "metadata": {
        "id": "Skd6TMVGaoru"
      },
      "execution_count": 45,
      "outputs": []
    },
    {
      "cell_type": "code",
      "source": [
        "data['TENURE']=data['TENURE'].map({'k<24':24,'I 18-21 month': 18, 'H 15-18 month': 15, 'G 12-15 month':12,\n",
        "                                             'J 21-24 month': 21, 'F 9-12': 9, 'E 6-9 month':6, 'D 3-6 month':3})"
      ],
      "metadata": {
        "id": "-cj6qNGwatcg"
      },
      "execution_count": 46,
      "outputs": []
    },
    {
      "cell_type": "code",
      "source": [
        "#return Avg of the tenure/month \n",
        "data['TENURE_AVG']=data['TENURE'].map({'k<24':(24+27)/2,'I 18-21 month': (18+21)/2, 'H 15-18 month': (15+18)/2, 'G 12-15 month':(12+15)/2,\n",
        "                                             'J 21-24 month': (24+21)/2, 'F 9-12': (12+9)/2, 'E 6-9 month':(6 +9)/2, 'D 3-6 month':(3 +6)/2})"
      ],
      "metadata": {
        "id": "6yVFjDU5cDff"
      },
      "execution_count": 47,
      "outputs": []
    },
    {
      "cell_type": "code",
      "source": [
        "data['TENURE/FREQUENCE_RECH'] = data['TENURE_AVG'] / data['FREQUENCE_RECH']\n",
        "data['TENURE/REGULARITY'] = data['TENURE_AVG'] / data['REGULARITY']"
      ],
      "metadata": {
        "id": "W7v-UHScdxUk"
      },
      "execution_count": 50,
      "outputs": []
    },
    {
      "cell_type": "code",
      "source": [
        "region=data.groupby('REGION').mean()\n",
        "region. drop('CHURN', 1, inplace= True )\n",
        "cols = []\n",
        "for i in region.columns:\n",
        "    if i != 'REGION':\n",
        "        region[i+'_reg_mean_all'] = region[i]\n",
        "        region.drop(i, 1, inplace = True)\n",
        "        cols.append(i+'_reg_mean_all')\n",
        "\n",
        "data = pd.merge(data, region, on='REGION', how = 'left')\n",
        "for col in cols: data[col+'_freq'] = data[col].map(data[col].value_counts().to_dict())/len(data)\n",
        "\n"
      ],
      "metadata": {
        "colab": {
          "base_uri": "https://localhost:8080/"
        },
        "id": "BVgkn0EVd3pm",
        "outputId": "56952c5e-119c-41d2-c5d3-935e82026096"
      },
      "execution_count": 54,
      "outputs": [
        {
          "output_type": "stream",
          "name": "stderr",
          "text": [
            "/usr/local/lib/python3.7/dist-packages/ipykernel_launcher.py:2: FutureWarning: In a future version of pandas all arguments of DataFrame.drop except for the argument 'labels' will be keyword-only\n",
            "  \n",
            "/usr/local/lib/python3.7/dist-packages/ipykernel_launcher.py:7: FutureWarning: In a future version of pandas all arguments of DataFrame.drop except for the argument 'labels' will be keyword-only\n",
            "  import sys\n"
          ]
        }
      ]
    },
    {
      "cell_type": "code",
      "source": [
        "data['freq*montant'] = data['FREQUENCE'] * data['MONTANT']\n",
        "data['freq*rech'] = data['FREQUENCE'] * data['FREQUENCE_RECH']\n",
        "data['freq*revenue'] = data['FREQUENCE'] * data['REVENUE']\n",
        "data['freq*segment'] = data['FREQUENCE'] * data['ARPU_SEGMENT']\n",
        "\n",
        "data['freq/montant'] =  data['MONTANT']/ data['FREQUENCE']\n",
        "data['freq/rech'] = data['FREQUENCE'] / data['FREQUENCE_RECH']\n",
        "data['freq/revenue'] = data['FREQUENCE'] / data['REVENUE']\n",
        "data['freq/segment'] = data['FREQUENCE'] / data['ARPU_SEGMENT']"
      ],
      "metadata": {
        "id": "O-ICo6KEeh-u"
      },
      "execution_count": 55,
      "outputs": []
    },
    {
      "cell_type": "code",
      "source": [
        "data['data/reg'] = data['DATA_VOLUME'] / data['REGULARITY']\n",
        "data['net/reg'] = data['ON_NET'] / data['REGULARITY']\n",
        "data['montant-rech/freq'] = (data['MONTANT'] - data['FREQUENCE_RECH']) / data['FREQUENCE']\n",
        "data['segment/reg'] = data['ARPU_SEGMENT'] / data['REGULARITY']"
      ],
      "metadata": {
        "id": "HSz59X_1h7ZM"
      },
      "execution_count": 56,
      "outputs": []
    },
    {
      "cell_type": "code",
      "source": [
        "data['reg_log'] = np.log1p(data['REGULARITY'])\n",
        "data['rech_log'] = np.log1p(data['FREQUENCE_RECH'])\n",
        "data['data_log'] = np.log1p(data['DATA_VOLUME'])\n",
        "data['montant_log'] = np.log1p(data['MONTANT'])\n",
        "data['rev_log'] = np.log1p(data['REVENUE'])\n",
        "data['freq_log'] = np.log1p(data['FREQUENCE'])"
      ],
      "metadata": {
        "id": "Y-lT0IKwh_GD"
      },
      "execution_count": 58,
      "outputs": []
    },
    {
      "cell_type": "code",
      "source": [
        "data['reglog-montlog'] = data['reg_log'] - data['montant_log']\n",
        "data['revlog/montlog'] = data['REVENUE'] / data['montant_log']\n",
        "data['tenure/rechlog'] = data['TENURE_AVG'] / data['rech_log']\n",
        "data['reglog-datalog'] = data['reg_log'] - data['data_log']"
      ],
      "metadata": {
        "id": "J19h7AbpiCMj"
      },
      "execution_count": 59,
      "outputs": []
    },
    {
      "cell_type": "code",
      "source": [
        "drop = ['REGION', 'TOP_PACK']\n",
        "data.drop(drop, 1, inplace = True)"
      ],
      "metadata": {
        "colab": {
          "base_uri": "https://localhost:8080/"
        },
        "id": "atl6N0LpijKj",
        "outputId": "776df6ab-ab5e-4721-fb1b-0a8157b075f0"
      },
      "execution_count": 60,
      "outputs": [
        {
          "output_type": "stream",
          "name": "stderr",
          "text": [
            "/usr/local/lib/python3.7/dist-packages/ipykernel_launcher.py:2: FutureWarning: In a future version of pandas all arguments of DataFrame.drop except for the argument 'labels' will be keyword-only\n",
            "  \n"
          ]
        }
      ]
    },
    {
      "cell_type": "code",
      "source": [
        ""
      ],
      "metadata": {
        "id": "LQMeTBRRipgT"
      },
      "execution_count": null,
      "outputs": []
    }
  ]
}